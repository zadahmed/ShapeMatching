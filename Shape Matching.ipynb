{
 "cells": [
  {
   "cell_type": "code",
   "execution_count": 28,
   "metadata": {},
   "outputs": [
    {
     "data": {
      "text/plain": [
       "-1"
      ]
     },
     "execution_count": 28,
     "metadata": {},
     "output_type": "execute_result"
    }
   ],
   "source": [
    "import cv2\n",
    "import numpy as np\n",
    "\n",
    "shapes = cv2.imread('C:\\\\Users\\\\Zahid\\\\Desktop\\\\Deep Learning\\\\openCVtutorials\\\\input3.png')\n",
    "gray_shapes = cv2.cvtColor(shapes , cv2.COLOR_BGR2GRAY)\n",
    "cv2.imshow(\"Contour Tempalte\", gray_shapes)\n",
    "cv2.waitKey()"
   ]
  },
  {
   "cell_type": "code",
   "execution_count": 37,
   "metadata": {},
   "outputs": [],
   "source": [
    "ret , thresh = cv2.threshold(gray_shapes , 127 , 255 , 1)\n",
    "contours , hierarchy = cv2.findContours(thresh.copy() , cv2.RETR_LIST , cv2.CHAIN_APPROX_NONE)\n",
    "\n",
    "for cnt in contours:\n",
    "    \n",
    "    approx = cv2.approxPolyDP(cnt , 0.01*cv2.arcLength(cnt , True) , True )\n",
    "    \n",
    "    if len(approx) == 3: #len(approx) returns number of sides\n",
    "        shape_name = \"Triangle\"\n",
    "        cv2.drawContours(shapes , [cnt] , 0 , (0,255 , 0) , -1 )\n",
    "        \n",
    "        #finding center of contour to place text\n",
    "        M = cv2.moments(cnt)\n",
    "        cx = int(M['m10'] / M['m00'])\n",
    "        cy = int(M['m01'] / M['m00'])\n",
    "        cv2.putText(shapes , shape_name , (cx - 10, cy) , cv2.FONT_HERSHEY_SIMPLEX , 0.2 , (0,0,0) , 1)\n",
    "    \n",
    "    elif len(approx) == 4:\n",
    "        x , y , w , h = cv2.boundingRect(cnt)\n",
    "        M = cv2.moments(cnt)\n",
    "        cx = int(M['m10'] / M['m00'])\n",
    "        cy = int(M['m01'] / M['m00'])\n",
    "        \n",
    "        if abs(w-h) <= 3:\n",
    "            shape_name = \"Square\"\n",
    "            cv2.drawContours(shapes , [cnt] , 0 , (0,255 , 0) , -1 )\n",
    "            cv2.putText(shapes , shape_name , (cx - 10, cy) , cv2.FONT_HERSHEY_SIMPLEX , 0.2 , (0,0,0) , 1)\n",
    "            \n",
    "        elif abs(h-w) > 1:\n",
    "            shape_name = \"Rectangle\"\n",
    "            M = cv2.moments(cnt)\n",
    "            cx = int(M['m10'] / M['m00'])\n",
    "            cy = int(M['m01'] / M['m00'])\n",
    "            cv2.drawContours(shapes , [cnt] , 0 , (0,255 , 0) , -1 ) \n",
    "            # -1 to fill the image , 0,255,0 is to change color to green\n",
    "            cv2.putText(shapes , shape_name , (cx - 10 , cy) , cv2.FONT_HERSHEY_SIMPLEX , 0.2 , (0,0,0) , 1)\n",
    "            #cx- 10 to adjust the text in the image , 0.2 is the font size\n",
    "        \n",
    "    elif len(approx) > 10:\n",
    "        \n",
    "        shape_name = \"Circle\"\n",
    "        cv2.drawContours(shapes , [cnt] , 0 , (0,255 , 0) , -1 )\n",
    "        \n",
    "        #finding center of contour to place text\n",
    "        M = cv2.moments(cnt)\n",
    "        cx = int(M['m10'] / M['m00'])\n",
    "        cy = int(M['m01'] / M['m00'])\n",
    "        cv2.putText(shapes , shape_name , (cx - 10, cy) , cv2.FONT_HERSHEY_SIMPLEX , 0.2 , (0,0,0) , 1)\n",
    "        \n",
    "    \n",
    "    elif len(approx ) == 6:\n",
    "        shape_name = \"Hexagon\"\n",
    "        cv2.drawContours(shapes , [cnt] , 0 , (0,255 , 0) , -1 )\n",
    "        \n",
    "        #finding center of contour to place text\n",
    "        M = cv2.moments(cnt)\n",
    "        cx = int(M['m10'] / M['m00'])\n",
    "        cy = int(M['m01'] / M['m00'])\n",
    "        cv2.putText(shapes , shape_name , (cx - 10, cy) , cv2.FONT_HERSHEY_SIMPLEX , 0.2 , (0,0,0) , 1)      \n",
    "        \n",
    "    \n",
    "        \n",
    "    cv2.imshow('Shapes Identified' , shapes)\n",
    "    cv2.waitKey()\n",
    "    \n",
    "cv2.destroyAllWindows()\n",
    "        "
   ]
  },
  {
   "cell_type": "code",
   "execution_count": null,
   "metadata": {},
   "outputs": [],
   "source": []
  }
 ],
 "metadata": {
  "kernelspec": {
   "display_name": "Python 3",
   "language": "python",
   "name": "python3"
  },
  "language_info": {
   "codemirror_mode": {
    "name": "ipython",
    "version": 3
   },
   "file_extension": ".py",
   "mimetype": "text/x-python",
   "name": "python",
   "nbconvert_exporter": "python",
   "pygments_lexer": "ipython3",
   "version": "3.7.1"
  }
 },
 "nbformat": 4,
 "nbformat_minor": 2
}
